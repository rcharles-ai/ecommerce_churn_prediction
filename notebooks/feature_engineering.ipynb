{
 "cells": [
  {
   "cell_type": "markdown",
   "metadata": {},
   "source": [
    "In this Notebook:\n",
    "- Handle Missing Values\n",
    "- Encode Categorical Variables\n",
    "- Create New Behavorial Features\n",
    "- Output Clean Dataset for Modeling"
   ]
  },
  {
   "cell_type": "code",
   "execution_count": 2,
   "metadata": {},
   "outputs": [],
   "source": [
    "import pandas as pd\n",
    "ecom_df = pd.read_excel('../data/E Commerce Dataset.xlsx', 'E Comm')"
   ]
  },
  {
   "cell_type": "code",
   "execution_count": 3,
   "metadata": {},
   "outputs": [
    {
     "data": {
      "text/plain": [
       "CustomerID                       0\n",
       "Churn                            0\n",
       "Tenure                         264\n",
       "PreferredLoginDevice             0\n",
       "CityTier                         0\n",
       "WarehouseToHome                251\n",
       "PreferredPaymentMode             0\n",
       "Gender                           0\n",
       "HourSpendOnApp                 255\n",
       "NumberOfDeviceRegistered         0\n",
       "PreferedOrderCat                 0\n",
       "SatisfactionScore                0\n",
       "MaritalStatus                    0\n",
       "NumberOfAddress                  0\n",
       "Complain                         0\n",
       "OrderAmountHikeFromlastYear    265\n",
       "CouponUsed                     256\n",
       "OrderCount                     258\n",
       "DaySinceLastOrder              307\n",
       "CashbackAmount                   0\n",
       "dtype: int64"
      ]
     },
     "execution_count": 3,
     "metadata": {},
     "output_type": "execute_result"
    }
   ],
   "source": [
    "# Handle Missing Values\n",
    "ecom_df.isna().sum()"
   ]
  },
  {
   "cell_type": "code",
   "execution_count": 4,
   "metadata": {},
   "outputs": [
    {
     "data": {
      "text/plain": [
       "CustomerID                     0\n",
       "Churn                          0\n",
       "Tenure                         0\n",
       "PreferredLoginDevice           0\n",
       "CityTier                       0\n",
       "WarehouseToHome                0\n",
       "PreferredPaymentMode           0\n",
       "Gender                         0\n",
       "HourSpendOnApp                 0\n",
       "NumberOfDeviceRegistered       0\n",
       "PreferedOrderCat               0\n",
       "SatisfactionScore              0\n",
       "MaritalStatus                  0\n",
       "NumberOfAddress                0\n",
       "Complain                       0\n",
       "OrderAmountHikeFromlastYear    0\n",
       "CouponUsed                     0\n",
       "OrderCount                     0\n",
       "DaySinceLastOrder              0\n",
       "CashbackAmount                 0\n",
       "dtype: int64"
      ]
     },
     "execution_count": 4,
     "metadata": {},
     "output_type": "execute_result"
    }
   ],
   "source": [
    "# Numeric Features with Skewed Distribution should be filled with median\n",
    "# Numeric Features with Normal Distribution should be filled with mean\n",
    "\n",
    "# Tenure\n",
    "# ecom_df['Tenure'].skew() # Positvely-Skewed (0.736)\n",
    "ecom_df['Tenure'] = ecom_df['Tenure'].fillna(ecom_df['Tenure'].median())\n",
    "\n",
    "# print(ecom_df)\n",
    "\n",
    "# WarehouseToHome\n",
    "# ecom_df['WarehouseToHome'].skew() # Positvely-Skewed (1.619)\n",
    "ecom_df['WarehouseToHome'] = ecom_df['WarehouseToHome'].fillna(ecom_df['WarehouseToHome'].median())\n",
    "\n",
    "# HourSpendOnApp\n",
    "# ecom_df['HourSpendOnApp'].skew() # Normal-ish (-0.027)\n",
    "ecom_df['HourSpendOnApp'] = ecom_df['HourSpendOnApp'].fillna(ecom_df['HourSpendOnApp'].mean())\n",
    "\n",
    "# OrderAmountHikeFromLastYear\n",
    "# ecom_df['OrderAmountHikeFromlastYear'].skew() # Positvely-Skewed (0.79)\n",
    "ecom_df['OrderAmountHikeFromlastYear'] = ecom_df['OrderAmountHikeFromlastYear'].fillna(ecom_df['OrderAmountHikeFromlastYear'].median())\n",
    "\n",
    "# CouponUsed \n",
    "# ecom_df['CouponUsed'].skew() # Positvely-Skewed (2.545)\n",
    "ecom_df['CouponUsed'] = ecom_df['CouponUsed'].fillna(ecom_df['CouponUsed'].median())\n",
    "\n",
    "# OrderCount \n",
    "# ecom_df['OrderCount'].skew() # Positvely-Skewed (2.196)\n",
    "ecom_df['OrderCount'] = ecom_df['OrderCount'].fillna(ecom_df['OrderCount'].median())\n",
    "\n",
    "# DaysSinceLastOrder -- Missing Data is meaningful. Must fill missing values while keeping meaningfulness\n",
    "# ecom_df['DaySinceLastOrder'].skew() # Positvely-Skewed (1.191)\n",
    "ecom_df['DaySinceLastOrder'] = ecom_df['DaySinceLastOrder'].fillna(999)\n",
    "\n",
    "ecom_df.isna().sum()"
   ]
  },
  {
   "cell_type": "code",
   "execution_count": 5,
   "metadata": {},
   "outputs": [],
   "source": [
    "# Feature Engineering\n",
    "import numpy as np\n",
    "\n",
    "ecom_df['CashbackPerOrder'] = np.where(ecom_df['OrderCount'] == 0, 0, ecom_df['CashbackAmount']/ecom_df['OrderCount'])\n",
    "ecom_df['RecentEngagementFlag'] = ecom_df['DaySinceLastOrder'].apply(lambda x: 1 if x <= 7 else 0)\n",
    "ecom_df['AvgOrdersPerPaymentMode'] = ecom_df['PreferredPaymentMode'].map(ecom_df.groupby('PreferredPaymentMode')['OrderCount'].mean())\n",
    "ecom_df['AvgOrdersPerMaritalStatus'] = ecom_df['MaritalStatus'].map(ecom_df.groupby('MaritalStatus')['OrderCount'].mean())"
   ]
  },
  {
   "cell_type": "markdown",
   "metadata": {},
   "source": [
    "Engineered Features Explanations\n",
    "1. CashbackPerOrder -> Normalizes total cashback by the number of orders to show per-order incentive strength. This helps identify customers who rely more on discounts, which may impact loyalty or retention.\n",
    "\n",
    "2. RecentEngagementFlag -> Flags customers who have placed an order within 7 days since there last order. Recent engagement is a strong negative indicator of churn.\n",
    "\n",
    "3. AvgOrdersPerPaymentMode -> Average amount of Orders per Payment Method. Helps uncover behavioral or loyalty trends across customer segments. For example, credit card users may order more frequently than wallet or cash users.\n",
    "\n",
    "4. AvgOrdersPerMaritalStatus -> Average amount of Orders per Marital Status. Captures sociological patterns in shopping behavior and can help identify demographic-based loyalty differences. "
   ]
  },
  {
   "cell_type": "code",
   "execution_count": 6,
   "metadata": {},
   "outputs": [
    {
     "data": {
      "text/plain": [
       "CustomerID                               0\n",
       "Churn                                    0\n",
       "Tenure                                   0\n",
       "CityTier                                 0\n",
       "WarehouseToHome                          0\n",
       "HourSpendOnApp                           0\n",
       "NumberOfDeviceRegistered                 0\n",
       "SatisfactionScore                        0\n",
       "NumberOfAddress                          0\n",
       "Complain                                 0\n",
       "OrderAmountHikeFromlastYear              0\n",
       "CouponUsed                               0\n",
       "OrderCount                               0\n",
       "DaySinceLastOrder                        0\n",
       "CashbackAmount                           0\n",
       "CashbackPerOrder                         0\n",
       "RecentEngagementFlag                     0\n",
       "AvgOrdersPerPaymentMode                  0\n",
       "AvgOrdersPerMaritalStatus                0\n",
       "PreferredLoginDevice_Computer            0\n",
       "PreferredLoginDevice_Mobile Phone        0\n",
       "PreferredLoginDevice_Phone               0\n",
       "PreferredPaymentMode_CC                  0\n",
       "PreferredPaymentMode_COD                 0\n",
       "PreferredPaymentMode_Cash on Delivery    0\n",
       "PreferredPaymentMode_Credit Card         0\n",
       "PreferredPaymentMode_Debit Card          0\n",
       "PreferredPaymentMode_E wallet            0\n",
       "PreferredPaymentMode_UPI                 0\n",
       "Gender_Female                            0\n",
       "Gender_Male                              0\n",
       "PreferedOrderCat_Fashion                 0\n",
       "PreferedOrderCat_Grocery                 0\n",
       "PreferedOrderCat_Laptop & Accessory      0\n",
       "PreferedOrderCat_Mobile                  0\n",
       "PreferedOrderCat_Mobile Phone            0\n",
       "PreferedOrderCat_Others                  0\n",
       "MaritalStatus_Divorced                   0\n",
       "MaritalStatus_Married                    0\n",
       "MaritalStatus_Single                     0\n",
       "dtype: int64"
      ]
     },
     "execution_count": 6,
     "metadata": {},
     "output_type": "execute_result"
    }
   ],
   "source": [
    "# Encode Categorical Features\n",
    "# One-Hot Encoding\n",
    "unordered_categoricals = ['PreferredLoginDevice','PreferredPaymentMode','Gender','PreferedOrderCat','MaritalStatus']\n",
    "for col in unordered_categoricals:\n",
    "    ecom_df[col] = ecom_df[col].astype(str)\n",
    "\n",
    "ecom_df = pd.get_dummies(ecom_df,columns=unordered_categoricals,drop_first=False)\n",
    "ecom_df.isna().sum()"
   ]
  },
  {
   "cell_type": "code",
   "execution_count": 7,
   "metadata": {},
   "outputs": [],
   "source": [
    "ecom_df.to_csv('../data/Cleaned_Ecom.csv',index=False)"
   ]
  }
 ],
 "metadata": {
  "kernelspec": {
   "display_name": "venv",
   "language": "python",
   "name": "python3"
  },
  "language_info": {
   "codemirror_mode": {
    "name": "ipython",
    "version": 3
   },
   "file_extension": ".py",
   "mimetype": "text/x-python",
   "name": "python",
   "nbconvert_exporter": "python",
   "pygments_lexer": "ipython3",
   "version": "3.10.13"
  }
 },
 "nbformat": 4,
 "nbformat_minor": 2
}
